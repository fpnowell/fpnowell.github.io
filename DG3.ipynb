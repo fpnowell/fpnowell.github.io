{
 "cells": [
  {
   "cell_type": "markdown",
   "id": "fcdd1ca3-c761-43d7-b34b-6deb06de4465",
   "metadata": {},
   "source": [
    "OSCAR can also do polyhedral geometry! All of the polymake functionality is accessible through OSCAR. "
   ]
  },
  {
   "cell_type": "code",
   "execution_count": null,
   "id": "aa57499c-9f63-436c-8e16-e7a52c292206",
   "metadata": {},
   "outputs": [],
   "source": [
    "using Oscar "
   ]
  },
  {
   "cell_type": "markdown",
   "id": "e45f5023-f51c-4c25-98a7-f7038cecfd77",
   "metadata": {},
   "source": [
    "## Polytopes \n",
    "Let's load some \"standard\" polytopes \n"
   ]
  },
  {
   "cell_type": "code",
   "execution_count": null,
   "id": "f5fc2bbb-500b-4dc6-83da-613edfdd904c",
   "metadata": {},
   "outputs": [],
   "source": [
    "standard_simplex = simplex(3)"
   ]
  },
  {
   "cell_type": "code",
   "execution_count": null,
   "id": "90d110e3-f444-4f03-aa32-4776c37b2a9f",
   "metadata": {},
   "outputs": [],
   "source": [
    "two_cube = cube(2) "
   ]
  },
  {
   "cell_type": "code",
   "execution_count": null,
   "id": "3bca8fe0-329a-473d-b40d-202f402c9b65",
   "metadata": {},
   "outputs": [],
   "source": [
    "is_simplicial(standard_simplex), is_simple(two_cube), is_simplicial(two_cube), is_simplicial(cube(3)) "
   ]
  },
  {
   "cell_type": "code",
   "execution_count": null,
   "id": "0922d3ff-79c1-48c1-9f26-ce8340a2b1df",
   "metadata": {},
   "outputs": [],
   "source": [
    "[1,1,1] in standard_simplex, [0,0,0] in standard_simplex, interior_lattice_points(two_cube) "
   ]
  },
  {
   "cell_type": "markdown",
   "id": "a4b60bc2-fa2b-43af-89f5-eac022b894f3",
   "metadata": {},
   "source": [
    "print_constraints allows us to pass between V and H-descriptions: "
   ]
  },
  {
   "cell_type": "code",
   "execution_count": null,
   "id": "a2d8f185-3d57-4cf9-b5e8-340adedd19f0",
   "metadata": {},
   "outputs": [],
   "source": [
    "print_constraints(two_cube) "
   ]
  },
  {
   "cell_type": "code",
   "execution_count": null,
   "id": "b7ea8791-68ac-4f61-a81b-abb8daa56d28",
   "metadata": {},
   "outputs": [],
   "source": [
    "vertices(polarize(two_cube))"
   ]
  },
  {
   "cell_type": "code",
   "execution_count": null,
   "id": "483de987-bee0-4697-9da4-c7c9b1ddf295",
   "metadata": {},
   "outputs": [],
   "source": [
    "2*two_cube \n"
   ]
  },
  {
   "cell_type": "code",
   "execution_count": null,
   "id": "3541f1c4-cc36-404e-9a4d-9ccd5c2173ac",
   "metadata": {},
   "outputs": [],
   "source": [
    "two_cube + standard_simplex #throws an error. Polytopes should be of the same dimension! "
   ]
  },
  {
   "cell_type": "code",
   "execution_count": null,
   "id": "57f0a82c-e935-4c10-953a-5b568472bbe9",
   "metadata": {},
   "outputs": [],
   "source": [
    "is_lattice_polytope(polarize(2*two_cube)) "
   ]
  },
  {
   "cell_type": "markdown",
   "id": "955f4e46-cf32-46b9-a60a-885b270094a1",
   "metadata": {},
   "source": [
    "## Cones"
   ]
  },
  {
   "cell_type": "code",
   "execution_count": null,
   "id": "e04b9536-0782-446d-90fc-96228d9894ea",
   "metadata": {},
   "outputs": [],
   "source": []
  },
  {
   "cell_type": "code",
   "execution_count": null,
   "id": "c7a1d65b-3407-4213-a07c-41c183c844ed",
   "metadata": {},
   "outputs": [],
   "source": [
    "C1 = positive_hull([ 1 2 ; 0 1]) \n",
    "#dim(C1) \n",
    "#rays(C1) \n",
    "#hilbert_basis(C1)"
   ]
  },
  {
   "cell_type": "code",
   "execution_count": null,
   "id": "dedcd5d6-6f1d-4a68-be4f-43c7472a312c",
   "metadata": {},
   "outputs": [],
   "source": [
    "C2 = cone_from_inequalities([1 0 0; 0 1 0; 1 1 0])\n",
    "#is_pointed(C2)\n",
    "#lineality_space(C2) \n",
    "#[0,0,1] in C2\n",
    "#hilbert_basis(C2) "
   ]
  },
  {
   "cell_type": "code",
   "execution_count": null,
   "id": "2a437333-a08a-47b9-9929-6788b3946229",
   "metadata": {},
   "outputs": [],
   "source": [
    "rays(polarize(C2)) \n",
    "is_pointed(polarize(C2)) \n",
    "#intersect(C1, C2) #throws an error. Why? \n",
    "#visualize "
   ]
  },
  {
   "cell_type": "markdown",
   "id": "c3b2d76c-1408-4ce8-9d1a-024d779b9739",
   "metadata": {},
   "source": [
    "normal_fan(two_cube) \n",
    "#rays(ans) "
   ]
  },
  {
   "cell_type": "markdown",
   "id": "41ef00c0-c79b-4af2-85f3-4a7b922336a3",
   "metadata": {},
   "source": [
    "## Gröbner Cones\n",
    "Consider the ideal $$I = \\langle x^2 + yz \\ , \\  xy + z^2 \\rangle \\triangleleft \\mathbb{Q}[x,y,z]$$"
   ]
  },
  {
   "cell_type": "markdown",
   "id": "cce9b800-58a7-4ee3-8209-5ade4e7f7422",
   "metadata": {},
   "source": [
    "Let's compute its degree reverse lexicographic Gröbner basis: "
   ]
  },
  {
   "cell_type": "code",
   "execution_count": null,
   "id": "961cf9bb-aab5-4713-8ff6-90d14a3ddb22",
   "metadata": {},
   "outputs": [],
   "source": [
    "R, (x,y,z) = polynomial_ring(QQ, [\"x\", \"y\", \"z\"]) #define the ring\n",
    "\n",
    "I = ideal([x^2 + y*z, x*y + z^2]) #define the ideal\n",
    " \n",
    "G = groebner_basis(I) #computes a degree reverse lexicographic Gröbner basis"
   ]
  },
  {
   "cell_type": "markdown",
   "id": "935114f9-2643-4280-ba5c-3083855e6e5f",
   "metadata": {},
   "source": [
    "Recall that the Gröbner cone of a Gröbner basis $G_<$ is the euclidean closure of the set of weight vectors which represent $G$ w.r.t $<$:     \\begin{equation}\n",
    "    C_{<} = \\overline{\\{ \\omega \\in \\mathbb{R}^n \\text{ : } in_<(g_i) = in_\\omega(g_i) \\text{  for  } i = 1,...s \\} } \\cap GR(I)\n",
    "\\end{equation}"
   ]
  },
  {
   "cell_type": "code",
   "execution_count": null,
   "id": "0077c91a-cce3-4e15-a541-2d48b4e0e1c3",
   "metadata": {},
   "outputs": [],
   "source": [
    "\n",
    "function bounding_vectors(G::Oscar.IdealGens)\n",
    "  gens_by_terms = terms.(G; ordering=ordering(G))\n",
    "  \n",
    "  v = map(Iterators.peel.(gens_by_terms)) do (lead,tail)\n",
    "      Ref(leading_exponent_vector(lead)) .- leading_exponent_vector.(tail)\n",
    "  end\n",
    "\n",
    "  return unique!(reduce(vcat, v))\n",
    "end\n",
    "bounding_vectors(G) #these vectors give a hyperplane description of the Gröbner cone\n",
    "\n",
    "#gens_by_terms = terms.(G; ordering=ordering(G))\n",
    "#= \n",
    "  v = map(Iterators.peel.(gens_by_terms)) do (lead,tail)\n",
    "      Ref(leading_exponent_vector(lead)) .- leading_exponent_vector.(tail) \n",
    "end \n",
    "=# \n",
    "\n"
   ]
  },
  {
   "cell_type": "code",
   "execution_count": null,
   "id": "2f6124ad-f7a2-436b-9c80-77074764950f",
   "metadata": {},
   "outputs": [],
   "source": [
    "C = cone_from_inequalities(-bounding_vectors(G))\n",
    "conerays = rays_modulo_lineality(C)[1]\n",
    "w = sum(conerays) \n",
    "#w =relative_interior_point(C)\n",
    "\n",
    "all([dot(w, v) > 0 for v in bounding_vectors(G)]) #w \n",
    "w = ZZ.(collect((inv(gcd(w)))*w))"
   ]
  },
  {
   "cell_type": "code",
   "execution_count": null,
   "id": "df4a4dd5-4580-4213-9e6a-113153d1a32d",
   "metadata": {},
   "outputs": [],
   "source": [
    "o2 = weight_ordering(w, degrevlex(R))\n",
    "G2 = groebner_basis(I, ordering = o2)\n",
    "G == G2 \n",
    "gens(G) == gens(G2) \n",
    "Set(gens(G)) == Set(gens(G2))"
   ]
  },
  {
   "cell_type": "markdown",
   "id": "d002c7e6-8b08-4fe3-afec-072e9bcf439d",
   "metadata": {},
   "source": [
    "## Applications of Gröbner fan #1: The Gröbner Walk \n",
    "The theory of Gröbner fans can be used to speed up Gröbner bases computation!\n",
    "(see slides) \n"
   ]
  },
  {
   "cell_type": "code",
   "execution_count": null,
   "id": "518440eb-71ce-4277-83d7-2c507301c375",
   "metadata": {},
   "outputs": [],
   "source": []
  }
 ],
 "metadata": {
  "kernelspec": {
   "display_name": "Julia 1.11.3",
   "language": "julia",
   "name": "julia-1.11"
  },
  "language_info": {
   "file_extension": ".jl",
   "mimetype": "application/julia",
   "name": "julia",
   "version": "1.11.3"
  }
 },
 "nbformat": 4,
 "nbformat_minor": 5
}
